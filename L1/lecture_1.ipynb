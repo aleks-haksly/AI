{
  "nbformat": 4,
  "nbformat_minor": 0,
  "metadata": {
    "colab": {
      "provenance": [],
      "gpuType": "T4",
      "authorship_tag": "ABX9TyOWiAOJT1Qwyb47eJpfRZBG",
      "include_colab_link": true
    },
    "kernelspec": {
      "name": "python3",
      "display_name": "Python 3"
    },
    "language_info": {
      "name": "python"
    }
  },
  "cells": [
    {
      "cell_type": "markdown",
      "metadata": {
        "id": "view-in-github",
        "colab_type": "text"
      },
      "source": [
        "<a href=\"https://colab.research.google.com/github/aleks-haksly/AI/blob/main/L1/lecture_1.ipynb\" target=\"_parent\"><img src=\"https://colab.research.google.com/assets/colab-badge.svg\" alt=\"Open In Colab\"/></a>"
      ]
    },
    {
      "cell_type": "code",
      "source": [
        "from tensorflow import keras\n",
        "from keras.datasets import mnist\n",
        "from keras.models import Sequential # импортируем класс создания модели (последовательный)\n",
        "from keras.layers import Dense # импортируем полносвязные слои\n",
        "import seaborn as sns"
      ],
      "metadata": {
        "id": "6y84xKVZ56oD"
      },
      "execution_count": 21,
      "outputs": []
    },
    {
      "cell_type": "code",
      "source": [
        "import numpy as np"
      ],
      "metadata": {
        "id": "LkVsnywjC4dr"
      },
      "execution_count": 2,
      "outputs": []
    },
    {
      "cell_type": "code",
      "source": [
        "model = Sequential()\n",
        "# 1. добавляем полносвязный слой с 2 входами и 2 выходами\n",
        "model.add(Dense(2,input_dim=2, use_bias=False))\n",
        "# 2. далее еще один слой число входов авто, число выходов 1.\n",
        "model.add(Dense(1, use_bias=False))"
      ],
      "metadata": {
        "id": "2CCtJBhgGXqw"
      },
      "execution_count": 3,
      "outputs": []
    },
    {
      "cell_type": "code",
      "source": [
        "#use_bias=True значит, что outputs = inputs * weights + вектор bias. В нашем случае мы это не спользуем и ветор bias не обучаем"
      ],
      "metadata": {
        "id": "usPR6tkdYcJH"
      },
      "execution_count": 4,
      "outputs": []
    },
    {
      "cell_type": "code",
      "source": [
        "model.summary()"
      ],
      "metadata": {
        "colab": {
          "base_uri": "https://localhost:8080/"
        },
        "id": "vqNJzc8MJnH_",
        "outputId": "284e5f6f-c5ee-42f9-d358-8c5793fecccb"
      },
      "execution_count": 5,
      "outputs": [
        {
          "output_type": "stream",
          "name": "stdout",
          "text": [
            "Model: \"sequential\"\n",
            "_________________________________________________________________\n",
            " Layer (type)                Output Shape              Param #   \n",
            "=================================================================\n",
            " dense (Dense)               (None, 2)                 4         \n",
            "                                                                 \n",
            " dense_1 (Dense)             (None, 1)                 2         \n",
            "                                                                 \n",
            "=================================================================\n",
            "Total params: 6 (24.00 Byte)\n",
            "Trainable params: 6 (24.00 Byte)\n",
            "Non-trainable params: 0 (0.00 Byte)\n",
            "_________________________________________________________________\n"
          ]
        }
      ]
    },
    {
      "cell_type": "code",
      "source": [
        "# Non-trainable params: параметры, которые не требуется изменять при обучении модели"
      ],
      "metadata": {
        "id": "36LCqZlVOBld"
      },
      "execution_count": 6,
      "outputs": []
    },
    {
      "cell_type": "code",
      "source": [
        "# При создании модели веса генерируются автоматически случайным образом.\n",
        "weights = model.get_weights()\n",
        "weights"
      ],
      "metadata": {
        "colab": {
          "base_uri": "https://localhost:8080/"
        },
        "id": "i9GK0mBQLHu3",
        "outputId": "d8e54cb2-33f8-4a52-8f4e-b51658dc8106"
      },
      "execution_count": 7,
      "outputs": [
        {
          "output_type": "execute_result",
          "data": {
            "text/plain": [
              "[array([[ 0.5199573 , -0.44582796],\n",
              "        [-0.20224261,  1.2053028 ]], dtype=float32),\n",
              " array([[-0.6222041 ],\n",
              "        [-0.06390941]], dtype=float32)]"
            ]
          },
          "metadata": {},
          "execution_count": 7
        }
      ]
    },
    {
      "cell_type": "code",
      "source": [
        "# Также их можно установить вручную\n",
        "w1 = 0.42\n",
        "w2 = 0.15\n",
        "w3 = -0.56\n",
        "w4 = 0.83\n",
        "w5 = 0.93\n",
        "w6 = 0.02\n",
        "# Веса в 1 и 2 слоях\n",
        "L1 = np.array([[w1, w3],[w2, w4]])\n",
        "L2 = np.array([[w5,], [w6,]])\n",
        "model.set_weights([L1, L2])"
      ],
      "metadata": {
        "id": "_XtiKAM4Ln93"
      },
      "execution_count": 8,
      "outputs": []
    },
    {
      "cell_type": "code",
      "source": [
        "model.get_weights()"
      ],
      "metadata": {
        "colab": {
          "base_uri": "https://localhost:8080/"
        },
        "id": "bxGMtDJaM_5a",
        "outputId": "d9c84113-957a-45d9-e0ba-75aad4b65799"
      },
      "execution_count": 9,
      "outputs": [
        {
          "output_type": "execute_result",
          "data": {
            "text/plain": [
              "[array([[ 0.42, -0.56],\n",
              "        [ 0.15,  0.83]], dtype=float32),\n",
              " array([[0.93],\n",
              "        [0.02]], dtype=float32)]"
            ]
          },
          "metadata": {},
          "execution_count": 9
        }
      ]
    },
    {
      "cell_type": "code",
      "source": [
        "# Положим входные значения равны:\n",
        "X1 = 7.2\n",
        "X2 = -5.8"
      ],
      "metadata": {
        "id": "Q2D6qdRjPqyd"
      },
      "execution_count": 10,
      "outputs": []
    },
    {
      "cell_type": "code",
      "source": [
        "# создаем входной набор данных\n",
        "x_train  = np.expand_dims(np.array([X1, X2]), 0) # ~reshape чтобы был двумерный набор, для этого добавляем ось\n",
        "x_train"
      ],
      "metadata": {
        "colab": {
          "base_uri": "https://localhost:8080/"
        },
        "id": "mrGXlLrYP9nN",
        "outputId": "d434e4f2-976d-4dce-edda-f84063eabe85"
      },
      "execution_count": 11,
      "outputs": [
        {
          "output_type": "execute_result",
          "data": {
            "text/plain": [
              "array([[ 7.2, -5.8]])"
            ]
          },
          "metadata": {},
          "execution_count": 11
        }
      ]
    },
    {
      "cell_type": "code",
      "source": [
        "model.predict(x_train) # Предикт от модели, также он просто равен произведению матриц"
      ],
      "metadata": {
        "colab": {
          "base_uri": "https://localhost:8080/"
        },
        "id": "qV6xWbrRQTUp",
        "outputId": "f66bca7d-efcc-4cda-bf8b-a6c992673fd6"
      },
      "execution_count": 12,
      "outputs": [
        {
          "output_type": "stream",
          "name": "stdout",
          "text": [
            "1/1 [==============================] - 0s 126ms/step\n"
          ]
        },
        {
          "output_type": "execute_result",
          "data": {
            "text/plain": [
              "array([[1.8262998]], dtype=float32)"
            ]
          },
          "metadata": {},
          "execution_count": 12
        }
      ]
    },
    {
      "cell_type": "code",
      "source": [
        "np.matmul(np.array([X1, X2]), L1) # То же, что и np.array([X1, X2]) @ L1"
      ],
      "metadata": {
        "colab": {
          "base_uri": "https://localhost:8080/"
        },
        "id": "5iBx2l-RR0SN",
        "outputId": "b3a3021b-9a98-4e61-f7bc-0f0127425f3f"
      },
      "execution_count": 13,
      "outputs": [
        {
          "output_type": "execute_result",
          "data": {
            "text/plain": [
              "array([ 2.154, -8.846])"
            ]
          },
          "metadata": {},
          "execution_count": 13
        }
      ]
    },
    {
      "cell_type": "code",
      "source": [
        "np.array([X1, X2]) @ L1 @ L2 # Предикт от модели, также он просто равен произведению матриц"
      ],
      "metadata": {
        "colab": {
          "base_uri": "https://localhost:8080/"
        },
        "id": "5Y84JOcXSUWc",
        "outputId": "761ed420-df16-4b77-aa3f-a3d6e1ce4ba1"
      },
      "execution_count": 14,
      "outputs": [
        {
          "output_type": "execute_result",
          "data": {
            "text/plain": [
              "array([1.8263])"
            ]
          },
          "metadata": {},
          "execution_count": 14
        }
      ]
    },
    {
      "cell_type": "code",
      "source": [],
      "metadata": {
        "id": "zvEomMjHTKRB"
      },
      "execution_count": 14,
      "outputs": []
    },
    {
      "cell_type": "markdown",
      "source": [
        "### Функция активации ###\n",
        "Если бы функция активации нейронов была бы линейной, но можно было выполнить преобразование: Output = Input * W1 * W2 при этом $\\exists$ W3 -> W3 = W1 * W2. То есть использование нескольких слоев не имело бы смысла. Но она не линейна.\n",
        "Чаще всего используют ф-ции:"
      ],
      "metadata": {
        "id": "9rJxfnMtbBc0"
      }
    },
    {
      "cell_type": "code",
      "source": [
        "# sigmoid сигмоид\n",
        "sns.lineplot(x=np.linspace(-10, 10, 100), y = [1 / (1 + np.exp(-x)) for x in np.linspace(-10, 10, 100)])"
      ],
      "metadata": {
        "id": "cETKqKYscDZb",
        "outputId": "717fe43b-37c9-4dfc-c9dc-12527780508f",
        "colab": {
          "base_uri": "https://localhost:8080/",
          "height": 447
        }
      },
      "execution_count": 33,
      "outputs": [
        {
          "output_type": "execute_result",
          "data": {
            "text/plain": [
              "<Axes: >"
            ]
          },
          "metadata": {},
          "execution_count": 33
        },
        {
          "output_type": "display_data",
          "data": {
            "text/plain": [
              "<Figure size 640x480 with 1 Axes>"
            ],
            "image/png": "[encoded data removed]"
          },
          "metadata": {}
        }
      ]
    },
    {
      "cell_type": "code",
      "source": [
        "#relu линейный выпрямитель\n",
        "sns.lineplot(x=np.linspace(-10, 10, 100), y = [x if x > 0 else 0 for x in np.linspace(-10, 10, 100)])"
      ],
      "metadata": {
        "id": "bke8KGV5elJa",
        "outputId": "b2b8bafd-cae0-461f-90e6-6f3bab2936c6",
        "colab": {
          "base_uri": "https://localhost:8080/",
          "height": 447
        }
      },
      "execution_count": 30,
      "outputs": [
        {
          "output_type": "execute_result",
          "data": {
            "text/plain": [
              "<Axes: >"
            ]
          },
          "metadata": {},
          "execution_count": 30
        },
        {
          "output_type": "display_data",
          "data": {
            "text/plain": [
              "<Figure size 640x480 with 1 Axes>"
            ],
            "image/png": "[encoded data removed]"
          },
          "metadata": {}
        }
      ]
    },
    {
      "cell_type": "code",
      "source": [
        "# tanh гиперболический тангенс\n",
        "sns.lineplot(x=np.linspace(-10, 10, 100), y = [(np.exp(x) - np.exp(-x)) / (np.exp(x) + np.exp(-x)) for x in np.linspace(-10, 10, 100)])"
      ],
      "metadata": {
        "id": "LEzY17WhhEPk",
        "outputId": "a5e0c082-bf95-4775-8533-7a274e4b7b6b",
        "colab": {
          "base_uri": "https://localhost:8080/",
          "height": 447
        }
      },
      "execution_count": 34,
      "outputs": [
        {
          "output_type": "execute_result",
          "data": {
            "text/plain": [
              "<Axes: >"
            ]
          },
          "metadata": {},
          "execution_count": 34
        },
        {
          "output_type": "display_data",
          "data": {
            "text/plain": [
              "<Figure size 640x480 with 1 Axes>"
            ],
            "image/png": "[encoded data removed]"
          },
          "metadata": {}
        }
      ]
    },
    {
      "cell_type": "code",
      "source": [
        "#softmax"
      ],
      "metadata": {
        "id": "bAaD4tethiRj"
      },
      "execution_count": null,
      "outputs": []
    }
  ]
}