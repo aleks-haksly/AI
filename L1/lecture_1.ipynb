{
  "nbformat": 4,
  "nbformat_minor": 0,
  "metadata": {
    "colab": {
      "provenance": [],
      "gpuType": "T4",
      "authorship_tag": "ABX9TyNNsqvA06YFxkPL0Bx5NbWv",
      "include_colab_link": true
    },
    "kernelspec": {
      "name": "python3",
      "display_name": "Python 3"
    },
    "language_info": {
      "name": "python"
    }
  },
  "cells": [
    {
      "cell_type": "markdown",
      "metadata": {
        "id": "view-in-github",
        "colab_type": "text"
      },
      "source": [
        "<a href=\"https://colab.research.google.com/github/aleks-haksly/AI/blob/main/L1/lecture_1.ipynb\" target=\"_parent\"><img src=\"https://colab.research.google.com/assets/colab-badge.svg\" alt=\"Open In Colab\"/></a>"
      ]
    },
    {
      "cell_type": "code",
      "source": [
        "from tensorflow import keras\n",
        "from keras.datasets import mnist\n",
        "from keras.models import Sequential # импортируем класс создания модели (последовательный)\n",
        "from keras.layers import Dense # импортируем полносвязные слои"
      ],
      "metadata": {
        "id": "6y84xKVZ56oD"
      },
      "execution_count": 2,
      "outputs": []
    },
    {
      "cell_type": "code",
      "source": [
        "import numpy as np"
      ],
      "metadata": {
        "id": "LkVsnywjC4dr"
      },
      "execution_count": 1,
      "outputs": []
    },
    {
      "cell_type": "code",
      "source": [
        "model = Sequential()\n",
        "# 1. добавляем полносвязный слой с 2 входами и 2 выходами\n",
        "model.add(Dense(2,input_dim=2, use_bias=False))\n",
        "# 2. далее еще один слой число входов авто, число выходов 1.\n",
        "model.add(Dense(1, use_bias=False))"
      ],
      "metadata": {
        "id": "2CCtJBhgGXqw"
      },
      "execution_count": 7,
      "outputs": []
    },
    {
      "cell_type": "code",
      "source": [
        "model.summary()"
      ],
      "metadata": {
        "colab": {
          "base_uri": "https://localhost:8080/"
        },
        "id": "vqNJzc8MJnH_",
        "outputId": "af5f775a-6feb-4982-c164-0126dddc9034"
      },
      "execution_count": 8,
      "outputs": [
        {
          "output_type": "stream",
          "name": "stdout",
          "text": [
            "Model: \"sequential_2\"\n",
            "_________________________________________________________________\n",
            " Layer (type)                Output Shape              Param #   \n",
            "=================================================================\n",
            " dense_2 (Dense)             (None, 2)                 4         \n",
            "                                                                 \n",
            " dense_3 (Dense)             (None, 1)                 2         \n",
            "                                                                 \n",
            "=================================================================\n",
            "Total params: 6 (24.00 Byte)\n",
            "Trainable params: 6 (24.00 Byte)\n",
            "Non-trainable params: 0 (0.00 Byte)\n",
            "_________________________________________________________________\n"
          ]
        }
      ]
    },
    {
      "cell_type": "code",
      "source": [
        "# Non-trainable params: параметры, которые не требуется изменять при обучении модели"
      ],
      "metadata": {
        "id": "36LCqZlVOBld"
      },
      "execution_count": null,
      "outputs": []
    },
    {
      "cell_type": "code",
      "source": [
        "# При создании модели веса генерируются автоматически случайным образом.\n",
        "weights = model.get_weights()\n",
        "weights"
      ],
      "metadata": {
        "colab": {
          "base_uri": "https://localhost:8080/"
        },
        "id": "i9GK0mBQLHu3",
        "outputId": "e6bde237-e2e6-4ac9-94cb-3293614f9df6"
      },
      "execution_count": 10,
      "outputs": [
        {
          "output_type": "execute_result",
          "data": {
            "text/plain": [
              "[array([[ 0.51889765,  0.7904781 ],\n",
              "        [ 0.27979243, -0.9374845 ]], dtype=float32),\n",
              " array([[ 0.79024756],\n",
              "        [-0.1755265 ]], dtype=float32)]"
            ]
          },
          "metadata": {},
          "execution_count": 10
        }
      ]
    },
    {
      "cell_type": "code",
      "source": [
        "# Также их можно установить вручную\n",
        "w1 = 0.42\n",
        "w2 = 0.15\n",
        "w3 = -0.56\n",
        "w4 = 0.83\n",
        "w5 = 0.93\n",
        "w6 = 0.02\n",
        "# Веса в 1 и 2 слоях\n",
        "L1 = np.array([[w1, w3],[w2, w4]])\n",
        "L2 = np.array([[w5,], [w6,]])\n",
        "model.set_weights([L1, L2])"
      ],
      "metadata": {
        "id": "_XtiKAM4Ln93"
      },
      "execution_count": 15,
      "outputs": []
    },
    {
      "cell_type": "code",
      "source": [],
      "metadata": {
        "id": "bxGMtDJaM_5a"
      },
      "execution_count": null,
      "outputs": []
    }
  ]
}