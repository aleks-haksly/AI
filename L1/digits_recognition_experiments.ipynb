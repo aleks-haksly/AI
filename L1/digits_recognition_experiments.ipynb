{
  "nbformat": 4,
  "nbformat_minor": 0,
  "metadata": {
    "colab": {
      "provenance": [],
      "gpuType": "T4",
      "authorship_tag": "ABX9TyPRdXjQRk+KfCXYNKC60Thr",
      "include_colab_link": true
    },
    "kernelspec": {
      "name": "python3",
      "display_name": "Python 3"
    },
    "language_info": {
      "name": "python"
    },
    "accelerator": "GPU"
  },
  "cells": [
    {
      "cell_type": "markdown",
      "metadata": {
        "id": "view-in-github",
        "colab_type": "text"
      },
      "source": [
        "<a href=\"https://colab.research.google.com/github/aleks-haksly/AI/blob/main/L1/digits_recognition_experiments.ipynb\" target=\"_parent\"><img src=\"https://colab.research.google.com/assets/colab-badge.svg\" alt=\"Open In Colab\"/></a>"
      ]
    },
    {
      "cell_type": "code",
      "execution_count": 1,
      "metadata": {
        "id": "KFKY9e8aagnO"
      },
      "outputs": [],
      "source": [
        "from tensorflow import keras\n",
        "from keras.datasets import mnist\n",
        "from keras.models import Sequential # импортируем класс создания модели (последовательный)\n",
        "from keras.layers import Dense # импортируем полносвязные слои\n",
        "from keras.optimizers import Adam\n",
        "from keras import utils # утилиты для to_categorical"
      ]
    },
    {
      "cell_type": "code",
      "source": [
        "import matplotlib.pyplot as plt\n",
        "import ipywidgets\n",
        "import numpy as np\n",
        "import seaborn as sns\n",
        "import pandas as pd"
      ],
      "metadata": {
        "id": "xk9-OpHLa0OG"
      },
      "execution_count": 40,
      "outputs": []
    },
    {
      "cell_type": "code",
      "source": [
        "(x_train_org, y_train_org), (x_test_org, y_test_org) = mnist.load_data()"
      ],
      "metadata": {
        "id": "UK6ZkG84a0lr",
        "outputId": "4abcd212-0fce-4113-d78b-ec6b64ed7dc7",
        "colab": {
          "base_uri": "https://localhost:8080/"
        }
      },
      "execution_count": 3,
      "outputs": [
        {
          "output_type": "stream",
          "name": "stdout",
          "text": [
            "Downloading data from https://storage.googleapis.com/tensorflow/tf-keras-datasets/mnist.npz\n",
            "11490434/11490434 [==============================] - 1s 0us/step\n"
          ]
        }
      ]
    },
    {
      "cell_type": "code",
      "source": [
        "x_train =  x_train_org.reshape(60_000, 784).astype('float') / 255\n",
        "x_test =  x_test_org.reshape(10_000, 784).astype('float') / 255"
      ],
      "metadata": {
        "id": "6rYL_TorbLLM"
      },
      "execution_count": 4,
      "outputs": []
    },
    {
      "cell_type": "code",
      "source": [
        "y_train = utils.to_categorical(y_train_org, 10)\n",
        "y_test = utils.to_categorical(y_test_org, 10)"
      ],
      "metadata": {
        "id": "tsST5lxHbayK"
      },
      "execution_count": 5,
      "outputs": []
    },
    {
      "cell_type": "code",
      "source": [
        "def make_model(n, b):\n",
        "  model = Sequential()\n",
        "  model.add(Dense(n, input_dim = 784, activation='relu', use_bias=False))\n",
        "  model.add(Dense(10, activation='softmax', use_bias=False))\n",
        "  model.compile(optimizer='adam', loss = 'categorical_crossentropy', metrics=[\"accuracy\"])\n",
        "  model.fit(x_train, y_train, batch_size=b, epochs=15, verbose=0, validation_split=0.2)\n",
        "  return model.evaluate(x_test, y_test)"
      ],
      "metadata": {
        "id": "oxl8wHZZcLaz"
      },
      "execution_count": 35,
      "outputs": []
    },
    {
      "cell_type": "code",
      "source": [
        "y = [make_model(x) for x in range(10, 1110, 100)]"
      ],
      "metadata": {
        "id": "IaKjGN-Ffw2V",
        "outputId": "3754d421-0b79-4fa9-ea21-e2e4985a752f",
        "colab": {
          "base_uri": "https://localhost:8080/"
        }
      },
      "execution_count": 25,
      "outputs": [
        {
          "output_type": "stream",
          "name": "stdout",
          "text": [
            "313/313 [==============================] - 1s 2ms/step - loss: 0.2398 - accuracy: 0.9323\n",
            "313/313 [==============================] - 1s 2ms/step - loss: 0.0810 - accuracy: 0.9759\n",
            "313/313 [==============================] - 1s 2ms/step - loss: 0.0770 - accuracy: 0.9791\n",
            "313/313 [==============================] - 1s 2ms/step - loss: 0.0720 - accuracy: 0.9804\n",
            "313/313 [==============================] - 1s 3ms/step - loss: 0.0741 - accuracy: 0.9803\n",
            "313/313 [==============================] - 1s 3ms/step - loss: 0.0747 - accuracy: 0.9810\n",
            "313/313 [==============================] - 1s 2ms/step - loss: 0.0766 - accuracy: 0.9821\n",
            "313/313 [==============================] - 1s 3ms/step - loss: 0.0758 - accuracy: 0.9804\n",
            "313/313 [==============================] - 1s 2ms/step - loss: 0.0698 - accuracy: 0.9819\n",
            "313/313 [==============================] - 1s 2ms/step - loss: 0.0821 - accuracy: 0.9797\n",
            "313/313 [==============================] - 1s 2ms/step - loss: 0.0692 - accuracy: 0.9829\n"
          ]
        }
      ]
    },
    {
      "cell_type": "code",
      "source": [
        "sns.lineplot(x=list(range(10, 1060, 100)), y=[y[1] for y in y])"
      ],
      "metadata": {
        "id": "CM1rPerOlyI1",
        "outputId": "72df3fa1-4a1e-451e-8ba3-e3313a8cf298",
        "colab": {
          "base_uri": "https://localhost:8080/",
          "height": 447
        }
      },
      "execution_count": 32,
      "outputs": [
        {
          "output_type": "execute_result",
          "data": {
            "text/plain": [
              "<Axes: >"
            ]
          },
          "metadata": {},
          "execution_count": 32
        },
        {
          "output_type": "display_data",
          "data": {
            "text/plain": [
              "<Figure size 640x480 with 1 Axes>"
            ],
            "image/png": "[encoded data removed]"
          },
          "metadata": {}
        }
      ]
    },
    {
      "cell_type": "code",
      "source": [
        "y = [make_model(n, b) for n, b in [(n, b) for n in (10, 100, 5000) for b in (1, 10, 100, 60000)]]"
      ],
      "metadata": {
        "id": "rhkjkyMnm7lS",
        "outputId": "a6977a17-7f51-4929-bfb8-6ebf0c236ecf",
        "colab": {
          "base_uri": "https://localhost:8080/"
        }
      },
      "execution_count": 36,
      "outputs": [
        {
          "output_type": "stream",
          "name": "stdout",
          "text": [
            "313/313 [==============================] - 1s 3ms/step - loss: 0.2854 - accuracy: 0.9277\n",
            "313/313 [==============================] - 1s 2ms/step - loss: 0.2346 - accuracy: 0.9376\n",
            "313/313 [==============================] - 1s 2ms/step - loss: 0.2417 - accuracy: 0.9328\n",
            "313/313 [==============================] - 1s 3ms/step - loss: 1.9252 - accuracy: 0.3606\n",
            "313/313 [==============================] - 1s 4ms/step - loss: 0.2801 - accuracy: 0.9716\n",
            "313/313 [==============================] - 1s 3ms/step - loss: 0.1254 - accuracy: 0.9785\n",
            "313/313 [==============================] - 1s 2ms/step - loss: 0.0840 - accuracy: 0.9755\n",
            "313/313 [==============================] - 1s 2ms/step - loss: 1.0166 - accuracy: 0.7888\n",
            "313/313 [==============================] - 1s 3ms/step - loss: 0.4717 - accuracy: 0.9792\n",
            "313/313 [==============================] - 1s 3ms/step - loss: 0.2861 - accuracy: 0.9756\n",
            "313/313 [==============================] - 1s 3ms/step - loss: 0.0917 - accuracy: 0.9829\n",
            "313/313 [==============================] - 1s 3ms/step - loss: 0.2934 - accuracy: 0.9187\n"
          ]
        }
      ]
    },
    {
      "cell_type": "code",
      "source": [
        "y"
      ],
      "metadata": {
        "id": "vquKRKKequ2U",
        "outputId": "7064a3c8-199b-4c2a-b1ab-c4a7194b9f85",
        "colab": {
          "base_uri": "https://localhost:8080/"
        }
      },
      "execution_count": 37,
      "outputs": [
        {
          "output_type": "execute_result",
          "data": {
            "text/plain": [
              "[[0.2854396104812622, 0.9276999831199646],\n",
              " [0.23464785516262054, 0.9376000165939331],\n",
              " [0.24166926741600037, 0.9327999949455261],\n",
              " [1.9251834154129028, 0.36059999465942383],\n",
              " [0.28010499477386475, 0.9715999960899353],\n",
              " [0.12535534799098969, 0.9785000085830688],\n",
              " [0.08401673287153244, 0.9754999876022339],\n",
              " [1.0165544748306274, 0.7888000011444092],\n",
              " [0.4717141091823578, 0.979200005531311],\n",
              " [0.28611117601394653, 0.975600004196167],\n",
              " [0.09168045222759247, 0.9829000234603882],\n",
              " [0.29344072937965393, 0.9186999797821045]]"
            ]
          },
          "metadata": {},
          "execution_count": 37
        }
      ]
    },
    {
      "cell_type": "code",
      "source": [
        "ys = [[0.2854396104812622, 0.9276999831199646],\n",
        " [0.23464785516262054, 0.9376000165939331],\n",
        " [0.24166926741600037, 0.9327999949455261],\n",
        " [1.9251834154129028, 0.36059999465942383],\n",
        " [0.28010499477386475, 0.9715999960899353],\n",
        " [0.12535534799098969, 0.9785000085830688],\n",
        " [0.08401673287153244, 0.9754999876022339],\n",
        " [1.0165544748306274, 0.7888000011444092],\n",
        " [0.4717141091823578, 0.979200005531311],\n",
        " [0.28611117601394653, 0.975600004196167],\n",
        " [0.09168045222759247, 0.9829000234603882],\n",
        " [0.29344072937965393, 0.9186999797821045]]"
      ],
      "metadata": {
        "id": "wYtTJ73vuid8"
      },
      "execution_count": 38,
      "outputs": []
    },
    {
      "cell_type": "code",
      "source": [],
      "metadata": {
        "id": "eQBi4-5hE4XQ",
        "outputId": "e15f4f2b-3f4c-493f-b2f9-d66847eef1e8",
        "colab": {
          "base_uri": "https://localhost:8080/"
        }
      },
      "execution_count": 39,
      "outputs": [
        {
          "output_type": "execute_result",
          "data": {
            "text/plain": [
              "[(10, 1),\n",
              " (10, 10),\n",
              " (10, 100),\n",
              " (10, 60000),\n",
              " (100, 1),\n",
              " (100, 10),\n",
              " (100, 100),\n",
              " (100, 60000),\n",
              " (5000, 1),\n",
              " (5000, 10),\n",
              " (5000, 100),\n",
              " (5000, 60000)]"
            ]
          },
          "metadata": {},
          "execution_count": 39
        }
      ]
    },
    {
      "cell_type": "code",
      "source": [
        "plot_df = pd.concat([pd.DataFrame([(n, b) for n in (10, 100, 5000) for b in (1, 10, 100, 60000)], columns=['n', 'batch_size']), pd.DataFrame(ys, columns=['loss', 'accuracy'])], axis=1)"
      ],
      "metadata": {
        "id": "sR7a_0kyE8Aw"
      },
      "execution_count": 52,
      "outputs": []
    },
    {
      "cell_type": "code",
      "source": [
        "sns.lineplot(plot_df, x = 'n', y='accuracy', hue='batch_size')\n",
        "plt.xscale('log')"
      ],
      "metadata": {
        "id": "aXZQkOXGKDBU",
        "outputId": "e286d13c-98a7-401e-d43d-51cc1c722219",
        "colab": {
          "base_uri": "https://localhost:8080/",
          "height": 454
        }
      },
      "execution_count": 56,
      "outputs": [
        {
          "output_type": "display_data",
          "data": {
            "text/plain": [
              "<Figure size 640x480 with 1 Axes>"
            ],
            "image/png": "[encoded data removed]"
          },
          "metadata": {}
        }
      ]
    },
    {
      "cell_type": "code",
      "source": [
        "plot_df"
      ],
      "metadata": {
        "id": "Eb2S3ThvKORl",
        "outputId": "78ce6fc7-7196-4b79-9174-9f703980ad2d",
        "colab": {
          "base_uri": "https://localhost:8080/",
          "height": 426
        }
      },
      "execution_count": 55,
      "outputs": [
        {
          "output_type": "execute_result",
          "data": {
            "text/plain": [
              "       n  batch_size      loss  accuracy\n",
              "0     10           1  0.285440    0.9277\n",
              "1     10          10  0.234648    0.9376\n",
              "2     10         100  0.241669    0.9328\n",
              "3     10       60000  1.925183    0.3606\n",
              "4    100           1  0.280105    0.9716\n",
              "5    100          10  0.125355    0.9785\n",
              "6    100         100  0.084017    0.9755\n",
              "7    100       60000  1.016554    0.7888\n",
              "8   5000           1  0.471714    0.9792\n",
              "9   5000          10  0.286111    0.9756\n",
              "10  5000         100  0.091680    0.9829\n",
              "11  5000       60000  0.293441    0.9187"
            ],
            "text/html": [
              "\n",
              "  <div id=\"df-089d99e1-3031-47a0-9700-da99a8e27445\" class=\"colab-df-container\">\n",
              "    <div>\n",
              "<style scoped>\n",
              "    .dataframe tbody tr th:only-of-type {\n",
              "        vertical-align: middle;\n",
              "    }\n",
              "\n",
              "    .dataframe tbody tr th {\n",
              "        vertical-align: top;\n",
              "    }\n",
              "\n",
              "    .dataframe thead th {\n",
              "        text-align: right;\n",
              "    }\n",
              "</style>\n",
              "<table border=\"1\" class=\"dataframe\">\n",
              "  <thead>\n",
              "    <tr style=\"text-align: right;\">\n",
              "      <th></th>\n",
              "      <th>n</th>\n",
              "      <th>batch_size</th>\n",
              "      <th>loss</th>\n",
              "      <th>accuracy</th>\n",
              "    </tr>\n",
              "  </thead>\n",
              "  <tbody>\n",
              "    <tr>\n",
              "      <th>0</th>\n",
              "      <td>10</td>\n",
              "      <td>1</td>\n",
              "      <td>0.285440</td>\n",
              "      <td>0.9277</td>\n",
              "    </tr>\n",
              "    <tr>\n",
              "      <th>1</th>\n",
              "      <td>10</td>\n",
              "      <td>10</td>\n",
              "      <td>0.234648</td>\n",
              "      <td>0.9376</td>\n",
              "    </tr>\n",
              "    <tr>\n",
              "      <th>2</th>\n",
              "      <td>10</td>\n",
              "      <td>100</td>\n",
              "      <td>0.241669</td>\n",
              "      <td>0.9328</td>\n",
              "    </tr>\n",
              "    <tr>\n",
              "      <th>3</th>\n",
              "      <td>10</td>\n",
              "      <td>60000</td>\n",
              "      <td>1.925183</td>\n",
              "      <td>0.3606</td>\n",
              "    </tr>\n",
              "    <tr>\n",
              "      <th>4</th>\n",
              "      <td>100</td>\n",
              "      <td>1</td>\n",
              "      <td>0.280105</td>\n",
              "      <td>0.9716</td>\n",
              "    </tr>\n",
              "    <tr>\n",
              "      <th>5</th>\n",
              "      <td>100</td>\n",
              "      <td>10</td>\n",
              "      <td>0.125355</td>\n",
              "      <td>0.9785</td>\n",
              "    </tr>\n",
              "    <tr>\n",
              "      <th>6</th>\n",
              "      <td>100</td>\n",
              "      <td>100</td>\n",
              "      <td>0.084017</td>\n",
              "      <td>0.9755</td>\n",
              "    </tr>\n",
              "    <tr>\n",
              "      <th>7</th>\n",
              "      <td>100</td>\n",
              "      <td>60000</td>\n",
              "      <td>1.016554</td>\n",
              "      <td>0.7888</td>\n",
              "    </tr>\n",
              "    <tr>\n",
              "      <th>8</th>\n",
              "      <td>5000</td>\n",
              "      <td>1</td>\n",
              "      <td>0.471714</td>\n",
              "      <td>0.9792</td>\n",
              "    </tr>\n",
              "    <tr>\n",
              "      <th>9</th>\n",
              "      <td>5000</td>\n",
              "      <td>10</td>\n",
              "      <td>0.286111</td>\n",
              "      <td>0.9756</td>\n",
              "    </tr>\n",
              "    <tr>\n",
              "      <th>10</th>\n",
              "      <td>5000</td>\n",
              "      <td>100</td>\n",
              "      <td>0.091680</td>\n",
              "      <td>0.9829</td>\n",
              "    </tr>\n",
              "    <tr>\n",
              "      <th>11</th>\n",
              "      <td>5000</td>\n",
              "      <td>60000</td>\n",
              "      <td>0.293441</td>\n",
              "      <td>0.9187</td>\n",
              "    </tr>\n",
              "  </tbody>\n",
              "</table>\n",
              "</div>\n",
              "    <div class=\"colab-df-buttons\">\n",
              "\n",
              "  <div class=\"colab-df-container\">\n",
              "    <button class=\"colab-df-convert\" onclick=\"convertToInteractive('df-089d99e1-3031-47a0-9700-da99a8e27445')\"\n",
              "            title=\"Convert this dataframe to an interactive table.\"\n",
              "            style=\"display:none;\">\n",
              "\n",
              "  <svg xmlns=\"http://www.w3.org/2000/svg\" height=\"24px\" viewBox=\"0 -960 960 960\">\n",
              "    <path d=\"M120-120v-720h720v720H120Zm60-500h600v-160H180v160Zm220 220h160v-160H400v160Zm0 220h160v-160H400v160ZM180-400h160v-160H180v160Zm440 0h160v-160H620v160ZM180-180h160v-160H180v160Zm440 0h160v-160H620v160Z\"/>\n",
              "  </svg>\n",
              "    </button>\n",
              "\n",
              "  <style>\n",
              "    .colab-df-container {\n",
              "      display:flex;\n",
              "      gap: 12px;\n",
              "    }\n",
              "\n",
              "    .colab-df-convert {\n",
              "      background-color: #E8F0FE;\n",
              "      border: none;\n",
              "      border-radius: 50%;\n",
              "      cursor: pointer;\n",
              "      display: none;\n",
              "      fill: #1967D2;\n",
              "      height: 32px;\n",
              "      padding: 0 0 0 0;\n",
              "      width: 32px;\n",
              "    }\n",
              "\n",
              "    .colab-df-convert:hover {\n",
              "      background-color: #E2EBFA;\n",
              "      box-shadow: 0px 1px 2px rgba(60, 64, 67, 0.3), 0px 1px 3px 1px rgba(60, 64, 67, 0.15);\n",
              "      fill: #174EA6;\n",
              "    }\n",
              "\n",
              "    .colab-df-buttons div {\n",
              "      margin-bottom: 4px;\n",
              "    }\n",
              "\n",
              "    [theme=dark] .colab-df-convert {\n",
              "      background-color: #3B4455;\n",
              "      fill: #D2E3FC;\n",
              "    }\n",
              "\n",
              "    [theme=dark] .colab-df-convert:hover {\n",
              "      background-color: #434B5C;\n",
              "      box-shadow: 0px 1px 3px 1px rgba(0, 0, 0, 0.15);\n",
              "      filter: drop-shadow(0px 1px 2px rgba(0, 0, 0, 0.3));\n",
              "      fill: #FFFFFF;\n",
              "    }\n",
              "  </style>\n",
              "\n",
              "    <script>\n",
              "      const buttonEl =\n",
              "        document.querySelector('#df-089d99e1-3031-47a0-9700-da99a8e27445 button.colab-df-convert');\n",
              "      buttonEl.style.display =\n",
              "        google.colab.kernel.accessAllowed ? 'block' : 'none';\n",
              "\n",
              "      async function convertToInteractive(key) {\n",
              "        const element = document.querySelector('#df-089d99e1-3031-47a0-9700-da99a8e27445');\n",
              "        const dataTable =\n",
              "          await google.colab.kernel.invokeFunction('convertToInteractive',\n",
              "                                                    [key], {});\n",
              "        if (!dataTable) return;\n",
              "\n",
              "        const docLinkHtml = 'Like what you see? Visit the ' +\n",
              "          '<a target=\"_blank\" href=https://colab.research.google.com/notebooks/data_table.ipynb>data table notebook</a>'\n",
              "          + ' to learn more about interactive tables.';\n",
              "        element.innerHTML = '';\n",
              "        dataTable['output_type'] = 'display_data';\n",
              "        await google.colab.output.renderOutput(dataTable, element);\n",
              "        const docLink = document.createElement('div');\n",
              "        docLink.innerHTML = docLinkHtml;\n",
              "        element.appendChild(docLink);\n",
              "      }\n",
              "    </script>\n",
              "  </div>\n",
              "\n",
              "\n",
              "<div id=\"df-717ea9e2-10a2-4810-bb9a-d24e81043f9b\">\n",
              "  <button class=\"colab-df-quickchart\" onclick=\"quickchart('df-717ea9e2-10a2-4810-bb9a-d24e81043f9b')\"\n",
              "            title=\"Suggest charts\"\n",
              "            style=\"display:none;\">\n",
              "\n",
              "<svg xmlns=\"http://www.w3.org/2000/svg\" height=\"24px\"viewBox=\"0 0 24 24\"\n",
              "     width=\"24px\">\n",
              "    <g>\n",
              "        <path d=\"M19 3H5c-1.1 0-2 .9-2 2v14c0 1.1.9 2 2 2h14c1.1 0 2-.9 2-2V5c0-1.1-.9-2-2-2zM9 17H7v-7h2v7zm4 0h-2V7h2v10zm4 0h-2v-4h2v4z\"/>\n",
              "    </g>\n",
              "</svg>\n",
              "  </button>\n",
              "\n",
              "<style>\n",
              "  .colab-df-quickchart {\n",
              "      --bg-color: #E8F0FE;\n",
              "      --fill-color: #1967D2;\n",
              "      --hover-bg-color: #E2EBFA;\n",
              "      --hover-fill-color: #174EA6;\n",
              "      --disabled-fill-color: #AAA;\n",
              "      --disabled-bg-color: #DDD;\n",
              "  }\n",
              "\n",
              "  [theme=dark] .colab-df-quickchart {\n",
              "      --bg-color: #3B4455;\n",
              "      --fill-color: #D2E3FC;\n",
              "      --hover-bg-color: #434B5C;\n",
              "      --hover-fill-color: #FFFFFF;\n",
              "      --disabled-bg-color: #3B4455;\n",
              "      --disabled-fill-color: #666;\n",
              "  }\n",
              "\n",
              "  .colab-df-quickchart {\n",
              "    background-color: var(--bg-color);\n",
              "    border: none;\n",
              "    border-radius: 50%;\n",
              "    cursor: pointer;\n",
              "    display: none;\n",
              "    fill: var(--fill-color);\n",
              "    height: 32px;\n",
              "    padding: 0;\n",
              "    width: 32px;\n",
              "  }\n",
              "\n",
              "  .colab-df-quickchart:hover {\n",
              "    background-color: var(--hover-bg-color);\n",
              "    box-shadow: 0 1px 2px rgba(60, 64, 67, 0.3), 0 1px 3px 1px rgba(60, 64, 67, 0.15);\n",
              "    fill: var(--button-hover-fill-color);\n",
              "  }\n",
              "\n",
              "  .colab-df-quickchart-complete:disabled,\n",
              "  .colab-df-quickchart-complete:disabled:hover {\n",
              "    background-color: var(--disabled-bg-color);\n",
              "    fill: var(--disabled-fill-color);\n",
              "    box-shadow: none;\n",
              "  }\n",
              "\n",
              "  .colab-df-spinner {\n",
              "    border: 2px solid var(--fill-color);\n",
              "    border-color: transparent;\n",
              "    border-bottom-color: var(--fill-color);\n",
              "    animation:\n",
              "      spin 1s steps(1) infinite;\n",
              "  }\n",
              "\n",
              "  @keyframes spin {\n",
              "    0% {\n",
              "      border-color: transparent;\n",
              "      border-bottom-color: var(--fill-color);\n",
              "      border-left-color: var(--fill-color);\n",
              "    }\n",
              "    20% {\n",
              "      border-color: transparent;\n",
              "      border-left-color: var(--fill-color);\n",
              "      border-top-color: var(--fill-color);\n",
              "    }\n",
              "    30% {\n",
              "      border-color: transparent;\n",
              "      border-left-color: var(--fill-color);\n",
              "      border-top-color: var(--fill-color);\n",
              "      border-right-color: var(--fill-color);\n",
              "    }\n",
              "    40% {\n",
              "      border-color: transparent;\n",
              "      border-right-color: var(--fill-color);\n",
              "      border-top-color: var(--fill-color);\n",
              "    }\n",
              "    60% {\n",
              "      border-color: transparent;\n",
              "      border-right-color: var(--fill-color);\n",
              "    }\n",
              "    80% {\n",
              "      border-color: transparent;\n",
              "      border-right-color: var(--fill-color);\n",
              "      border-bottom-color: var(--fill-color);\n",
              "    }\n",
              "    90% {\n",
              "      border-color: transparent;\n",
              "      border-bottom-color: var(--fill-color);\n",
              "    }\n",
              "  }\n",
              "</style>\n",
              "\n",
              "  <script>\n",
              "    async function quickchart(key) {\n",
              "      const quickchartButtonEl =\n",
              "        document.querySelector('#' + key + ' button');\n",
              "      quickchartButtonEl.disabled = true;  // To prevent multiple clicks.\n",
              "      quickchartButtonEl.classList.add('colab-df-spinner');\n",
              "      try {\n",
              "        const charts = await google.colab.kernel.invokeFunction(\n",
              "            'suggestCharts', [key], {});\n",
              "      } catch (error) {\n",
              "        console.error('Error during call to suggestCharts:', error);\n",
              "      }\n",
              "      quickchartButtonEl.classList.remove('colab-df-spinner');\n",
              "      quickchartButtonEl.classList.add('colab-df-quickchart-complete');\n",
              "    }\n",
              "    (() => {\n",
              "      let quickchartButtonEl =\n",
              "        document.querySelector('#df-717ea9e2-10a2-4810-bb9a-d24e81043f9b button');\n",
              "      quickchartButtonEl.style.display =\n",
              "        google.colab.kernel.accessAllowed ? 'block' : 'none';\n",
              "    })();\n",
              "  </script>\n",
              "</div>\n",
              "\n",
              "  <div id=\"id_3078dd95-fbd8-4caa-bf5c-2d9e25b02282\">\n",
              "    <style>\n",
              "      .colab-df-generate {\n",
              "        background-color: #E8F0FE;\n",
              "        border: none;\n",
              "        border-radius: 50%;\n",
              "        cursor: pointer;\n",
              "        display: none;\n",
              "        fill: #1967D2;\n",
              "        height: 32px;\n",
              "        padding: 0 0 0 0;\n",
              "        width: 32px;\n",
              "      }\n",
              "\n",
              "      .colab-df-generate:hover {\n",
              "        background-color: #E2EBFA;\n",
              "        box-shadow: 0px 1px 2px rgba(60, 64, 67, 0.3), 0px 1px 3px 1px rgba(60, 64, 67, 0.15);\n",
              "        fill: #174EA6;\n",
              "      }\n",
              "\n",
              "      [theme=dark] .colab-df-generate {\n",
              "        background-color: #3B4455;\n",
              "        fill: #D2E3FC;\n",
              "      }\n",
              "\n",
              "      [theme=dark] .colab-df-generate:hover {\n",
              "        background-color: #434B5C;\n",
              "        box-shadow: 0px 1px 3px 1px rgba(0, 0, 0, 0.15);\n",
              "        filter: drop-shadow(0px 1px 2px rgba(0, 0, 0, 0.3));\n",
              "        fill: #FFFFFF;\n",
              "      }\n",
              "    </style>\n",
              "    <button class=\"colab-df-generate\" onclick=\"generateWithVariable('plot_df')\"\n",
              "            title=\"Generate code using this dataframe.\"\n",
              "            style=\"display:none;\">\n",
              "\n",
              "  <svg xmlns=\"http://www.w3.org/2000/svg\" height=\"24px\"viewBox=\"0 0 24 24\"\n",
              "       width=\"24px\">\n",
              "    <path d=\"M7,19H8.4L18.45,9,17,7.55,7,17.6ZM5,21V16.75L18.45,3.32a2,2,0,0,1,2.83,0l1.4,1.43a1.91,1.91,0,0,1,.58,1.4,1.91,1.91,0,0,1-.58,1.4L9.25,21ZM18.45,9,17,7.55Zm-12,3A5.31,5.31,0,0,0,4.9,8.1,5.31,5.31,0,0,0,1,6.5,5.31,5.31,0,0,0,4.9,4.9,5.31,5.31,0,0,0,6.5,1,5.31,5.31,0,0,0,8.1,4.9,5.31,5.31,0,0,0,12,6.5,5.46,5.46,0,0,0,6.5,12Z\"/>\n",
              "  </svg>\n",
              "    </button>\n",
              "    <script>\n",
              "      (() => {\n",
              "      const buttonEl =\n",
              "        document.querySelector('#id_3078dd95-fbd8-4caa-bf5c-2d9e25b02282 button.colab-df-generate');\n",
              "      buttonEl.style.display =\n",
              "        google.colab.kernel.accessAllowed ? 'block' : 'none';\n",
              "\n",
              "      buttonEl.onclick = () => {\n",
              "        google.colab.notebook.generateWithVariable('plot_df');\n",
              "      }\n",
              "      })();\n",
              "    </script>\n",
              "  </div>\n",
              "\n",
              "    </div>\n",
              "  </div>\n"
            ],
            "application/vnd.google.colaboratory.intrinsic+json": {
              "type": "dataframe",
              "variable_name": "plot_df",
              "summary": "{\n  \"name\": \"plot_df\",\n  \"rows\": 12,\n  \"fields\": [\n    {\n      \"column\": \"n\",\n      \"properties\": {\n        \"dtype\": \"number\",\n        \"std\": 2435,\n        \"min\": 10,\n        \"max\": 5000,\n        \"num_unique_values\": 3,\n        \"samples\": [\n          10,\n          100,\n          5000\n        ],\n        \"semantic_type\": \"\",\n        \"description\": \"\"\n      }\n    },\n    {\n      \"column\": \"batch_size\",\n      \"properties\": {\n        \"dtype\": \"number\",\n        \"std\": 27119,\n        \"min\": 1,\n        \"max\": 60000,\n        \"num_unique_values\": 4,\n        \"samples\": [\n          10,\n          60000,\n          1\n        ],\n        \"semantic_type\": \"\",\n        \"description\": \"\"\n      }\n    },\n    {\n      \"column\": \"loss\",\n      \"properties\": {\n        \"dtype\": \"number\",\n        \"std\": 0.5276106695530443,\n        \"min\": 0.08401673287153244,\n        \"max\": 1.9251834154129028,\n        \"num_unique_values\": 12,\n        \"samples\": [\n          0.09168045222759247,\n          0.28611117601394653,\n          0.2854396104812622\n        ],\n        \"semantic_type\": \"\",\n        \"description\": \"\"\n      }\n    },\n    {\n      \"column\": \"accuracy\",\n      \"properties\": {\n        \"dtype\": \"number\",\n        \"std\": 0.17641883827913893,\n        \"min\": 0.36059999465942383,\n        \"max\": 0.9829000234603882,\n        \"num_unique_values\": 12,\n        \"samples\": [\n          0.9829000234603882,\n          0.975600004196167,\n          0.9276999831199646\n        ],\n        \"semantic_type\": \"\",\n        \"description\": \"\"\n      }\n    }\n  ]\n}"
            }
          },
          "metadata": {},
          "execution_count": 55
        }
      ]
    },
    {
      "cell_type": "code",
      "source": [],
      "metadata": {
        "id": "_616yV5RKPmx"
      },
      "execution_count": null,
      "outputs": []
    }
  ]
}