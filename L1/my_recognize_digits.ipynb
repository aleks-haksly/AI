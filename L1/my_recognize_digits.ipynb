{
  "nbformat": 4,
  "nbformat_minor": 0,
  "metadata": {
    "colab": {
      "provenance": [],
      "authorship_tag": "ABX9TyNQqh32RzNlL91ers4SW+Mm",
      "include_colab_link": true
    },
    "kernelspec": {
      "name": "python3",
      "display_name": "Python 3"
    },
    "language_info": {
      "name": "python"
    },
    "widgets": {
      "application/vnd.jupyter.widget-state+json": {
        "6458175cdc4f48ea955ff59e334c970b": {
          "model_module": "@jupyter-widgets/controls",
          "model_name": "VBoxModel",
          "model_module_version": "1.5.0",
          "state": {
            "_dom_classes": [
              "widget-interact"
            ],
            "_model_module": "@jupyter-widgets/controls",
            "_model_module_version": "1.5.0",
            "_model_name": "VBoxModel",
            "_view_count": null,
            "_view_module": "@jupyter-widgets/controls",
            "_view_module_version": "1.5.0",
            "_view_name": "VBoxView",
            "box_style": "",
            "children": [
              "IPY_MODEL_b5097823770b47f3a392e616bead3d15",
              "IPY_MODEL_4575c833f7b741d8aaac4a7c81105c42"
            ],
            "layout": "IPY_MODEL_81418f2e08254f2789dcb6cf52c84f3d"
          }
        },
        "b5097823770b47f3a392e616bead3d15": {
          "model_module": "@jupyter-widgets/controls",
          "model_name": "IntSliderModel",
          "model_module_version": "1.5.0",
          "state": {
            "_dom_classes": [],
            "_model_module": "@jupyter-widgets/controls",
            "_model_module_version": "1.5.0",
            "_model_name": "IntSliderModel",
            "_view_count": null,
            "_view_module": "@jupyter-widgets/controls",
            "_view_module_version": "1.5.0",
            "_view_name": "IntSliderView",
            "continuous_update": true,
            "description": "n",
            "description_tooltip": null,
            "disabled": false,
            "layout": "IPY_MODEL_de67fe69d4c44ab3a3892264c58c773e",
            "max": 8,
            "min": 0,
            "orientation": "horizontal",
            "readout": true,
            "readout_format": "d",
            "step": 1,
            "style": "IPY_MODEL_d18ae3aeb9794fb5bff3c84a41cce164",
            "value": 8
          }
        },
        "4575c833f7b741d8aaac4a7c81105c42": {
          "model_module": "@jupyter-widgets/output",
          "model_name": "OutputModel",
          "model_module_version": "1.0.0",
          "state": {
            "_dom_classes": [],
            "_model_module": "@jupyter-widgets/output",
            "_model_module_version": "1.0.0",
            "_model_name": "OutputModel",
            "_view_count": null,
            "_view_module": "@jupyter-widgets/output",
            "_view_module_version": "1.0.0",
            "_view_name": "OutputView",
            "layout": "IPY_MODEL_31dc45b3e8b74b77b199a079e8ba43e7",
            "msg_id": "",
            "outputs": [
              {
                "output_type": "stream",
                "name": "stdout",
                "text": [
                  "\r1/1 [==============================] - ETA: 0s"
                ]
              },
              {
                "output_type": "stream",
                "name": "stdout",
                "text": [
                  "\b\b\b\b\b\b\b\b\b\b\b\b\b\b\b\b\b\b\b\b\b\b\b\b\b\b\b\b\b\b\b\b\b\b\b\b\b\b\b\b\b\b\b\b\b\b\r1/1 [==============================] - 0s 31ms/step\n"
                ]
              },
              {
                "output_type": "stream",
                "name": "stdout",
                "text": [
                  "Predicted: 3\n"
                ]
              },
              {
                "output_type": "display_data",
                "data": {
                  "text/plain": "array([[  4,   4,   4,   4,   4,   4,   4,   4,   4,   4,   4,   4,   4,\n          4,   4,   4,   4,   4,   4,   4,   4,   4,   4,   4,   4,   4,\n          4,   4],\n       [  4,   4,   4,   4,   4,   4,   4,   0,   4,   4,   4,   4,   4,\n          4,   0,   4,   4,   4,   4,   4,   4,   4,   4,   4,   4,   4,\n          4,   4],\n       [  4,   4,   0,   4,   4,   4,   4,   4,  63,  95,  95,  63,   4,\n          4,   4,   4,   0,   4,   4,   4,   4,   4,   4,   4,   4,   4,\n          4,   4],\n       [  4,   4,   0,   4,   4,   4, 127, 219, 201, 201, 191, 127,  63,\n          4,   4,   4,   4,   4,   4,   4,   4,   4,   4,   4,   4,   4,\n          4,   4],\n       [  4,   4,   0,   0,   4,  95, 219, 219, 255, 219, 219, 191, 163,\n         73,   4,   4,   0,   4,   4,   4,   4,   4,   4,   4,   4,   4,\n          4,   4],\n       [  4,   4,   4,   4,   0, 165, 219, 219, 219, 172, 165, 219, 201,\n        172,   4,   4,   0,   4,   4,   4,   4,   4,   4,   4,   4,   4,\n          4,   4],\n       [  4,   4,   0,   4,   4, 191, 219, 219, 172,   4, 127, 219, 219,\n        191,  95,   4,   4,   4,   4,   4,   4,   4,   4,   4,   4,   4,\n          4,   4],\n       [  4,   4,   4,   0,   4, 191, 219, 219,  95,   4,   4, 172, 219,\n        219, 127,   4,   4,   4,   4,   4,   4,   4,   4,   4,   4,   4,\n          4,   4],\n       [  4,   4,   4,   4,   4, 191, 219, 191,  95,   4,   4,  95, 201,\n        219, 155,   4,   4,   4,   4,   4,   4,   4,   4,   4,   4,   4,\n          4,   4],\n       [  4,   4,   4,   4,   0,   4, 163, 219, 219, 127,   4,  63, 201,\n        219, 191,  95,   4,   4,   4,   0,   4,   4,   4,   4,   4,   4,\n          4,   4],\n       [  4,   4,   4,   0,   4,   0,   4,  95, 165, 165,  95,   4, 191,\n        219, 219,  95,   4,   4,   4,   0,   4,   4,   4,   4,   4,   4,\n          4,   4],\n       [  4,   4,   4,   4,   0,   4,   4,   4,  95,  63,   4,   4, 191,\n        229, 219, 127,   4,   4,   4,   4,   4,   4,   4,   4,   4,   4,\n          4,   4],\n       [  4,   4,   0,   4,   0,   4,   4,   4,   4,   4,   4,  63, 255,\n        219, 219,  95,   4,   4,   4,   4,   4,   4,   4,   4,   4,   4,\n          4,   4],\n       [  4,   4,   4,   4,   4,   4,   4,   0,   0,   4,   4, 191, 219,\n        229, 219, 165,  95,   4,   4,   0,   4,   4,   4,   4,   4,   4,\n          4,   4],\n       [  4,   4,   4,   4,   4,   4,   4,   4,   4,   4, 165, 229, 255,\n        255, 229, 219, 191,  95,   4,   4,   4,   4,   4,   4,   4,   4,\n          4,   4],\n       [  4,   4,   4,   4,   4,   4,   4,   0,   0, 163, 219, 219, 219,\n        219, 191, 191, 165, 191, 137,   4,   4,   4,   4,   4,   4,   4,\n          4,   4],\n       [  4,   4,   4,   4,   4,   4,   0,   0,  95, 219, 229, 219, 172,\n         63,   4,   4, 127, 191, 191,   4,   4,   4,   4,   4,   4,   4,\n          4,   4],\n       [  4,   4,   4,   0,   0,   4,   4,  73, 201, 255, 229,  95,   4,\n          4,   4,   4,   4, 165, 191,  63,   4,   4,   4,   4,   4,   4,\n          4,   4],\n       [  4,   4,   4,   4,   4,   4,  63, 229, 229, 219,  95,   4,   4,\n          0,   4,   4,   4, 163, 219, 127,   4,   4,   4,   4,   4,   4,\n          4,   4],\n       [  4,   4,   4,   0,   0,   4, 191, 229, 219,   4,   4,   4,   4,\n          4,   4,   4,  95, 219, 229,  95,   4,   4,   0,   4,   4,   4,\n          4,   4],\n       [  4,   4,   4,   4,   0,  63, 201, 219, 191,   4,   4,   4,   4,\n          4,   4, 127, 219, 229, 219,   4,   4,   4,   4,   4,   4,   0,\n          0,   0],\n       [  4,   4,   4,   0,   0,   4, 165, 219, 219, 127,  95,  95, 127,\n        191, 219, 219, 219, 229, 163,   4,   4,   4,   4,   4,   4,   4,\n          4,   4],\n       [  4,   4,   4,   4,   4,   0, 172, 191, 219, 219, 229, 219, 219,\n        219, 229, 219, 229, 191,   4,   0,   4,   4,   4,   4,   4,   4,\n          4,   4],\n       [  4,   4,   0,   4,   0,   4,   4, 155, 191, 219, 219, 219, 219,\n        229, 219, 219, 127,   4,   4,   4,   4,   4,   4,   4,   4,   0,\n          0,   0],\n       [  4,   4,   0,   0,   0,   0,   0,   4, 127, 165, 219, 191, 191,\n        163,  73,   0,   4,   4,   4,   0,   0,   0,   0,   0,   0,   0,\n          0,   0],\n       [  4,   4,   4,   4,   4,   4,   4,   4,   4,   0,   4,   0,   4,\n          0,   0,   4,   4,   4,   4,   0,   0,   0,   0,   0,   0,   4,\n          4,   4],\n       [  4,   4,   4,   4,   4,   4,   4,   4,   0,   4,   4,   4,   0,\n          0,   0,   4,   0,   4,   4,   0,   0,   4,   4,   4,   4,   4,\n          4,   4],\n       [  4,   4,   0,   0,   0,   0,   4,   0,   0,   4,   4,   4,   4,\n          4,   0,   0,   4,   4,   4,   0,   0,   4,   4,   4,   4,   4,\n          4,   4]], dtype=uint8)",
                  "text/html": "<style>\n      .ndarray_repr .ndarray_raw_data {\n        display: none;\n      }\n      .ndarray_repr.show_array .ndarray_raw_data {\n        display: block;\n      }\n      .ndarray_repr.show_array .ndarray_image_preview {\n        display: none;\n      }\n      </style>\n      <div id=\"id-7df398ad-e818-4ff1-b164-2bf7999b6482\" class=\"ndarray_repr\"><pre>ndarray (28, 28) <button style=\"padding: 0 2px;\">show data</button></pre><img src=\"data:image/png;base64,iVBORw0KGgoAAAANSUhEUgAAABwAAAAcCAAAAABXZoBIAAABc0lEQVR4nHWSsWobQRCGPx1/taXdiS1UGEFe4BCoiJoL5A0MJzAheYpcihTxS5g0IVyqdC4CcWE3B446teKKKy4uXW41JCl2dT5ZZJrZ2d2Zne/fmYj/W5a8HbhkE2ECWM7oGkhRtLSs1o+EO5phYzg0lWvy9mR15m4OMjOQ7BW0242fvz1qyNAUtuc7Tk7Lg7IZyACuudziZ0coAnrg+hF/zGnFvf9Q0cFZOYbNAJO9+bSZl014lilAJmq6BlyYMULVXpMalquW7pl8ABjixruw+Vk/6TDyX+ZTHvIptY4zvy6AnofppjpAAeNi4di+K4od+ahdCaTXv/7+vpAk1bcvlSwDJJafffu+xoA/fjXmNPSR8CJG5cJ1e7wowtKFPl6u1i7UEX+f2bS5rzpmKw/cDzUjin0/9bgALrhdMYiQgWE6b3sCuMBVkYQxs4niD6ma5z39tx8afdlk0MpkstRDenN0FufF9KR4qhLnSNh4MvkH+iyAP92+Po8AAAAASUVORK5CYII=\" class=\"ndarray_image_preview\" /><pre class=\"ndarray_raw_data\">array([[  4,   4,   4,   4,   4,   4,   4,   4,   4,   4,   4,   4,   4,\n          4,   4,   4,   4,   4,   4,   4,   4,   4,   4,   4,   4,   4,\n          4,   4],\n       [  4,   4,   4,   4,   4,   4,   4,   0,   4,   4,   4,   4,   4,\n          4,   0,   4,   4,   4,   4,   4,   4,   4,   4,   4,   4,   4,\n          4,   4],\n       [  4,   4,   0,   4,   4,   4,   4,   4,  63,  95,  95,  63,   4,\n          4,   4,   4,   0,   4,   4,   4,   4,   4,   4,   4,   4,   4,\n          4,   4],\n       [  4,   4,   0,   4,   4,   4, 127, 219, 201, 201, 191, 127,  63,\n          4,   4,   4,   4,   4,   4,   4,   4,   4,   4,   4,   4,   4,\n          4,   4],\n       [  4,   4,   0,   0,   4,  95, 219, 219, 255, 219, 219, 191, 163,\n         73,   4,   4,   0,   4,   4,   4,   4,   4,   4,   4,   4,   4,\n          4,   4],\n       [  4,   4,   4,   4,   0, 165, 219, 219, 219, 172, 165, 219, 201,\n        172,   4,   4,   0,   4,   4,   4,   4,   4,   4,   4,   4,   4,\n          4,   4],\n       [  4,   4,   0,   4,   4, 191, 219, 219, 172,   4, 127, 219, 219,\n        191,  95,   4,   4,   4,   4,   4,   4,   4,   4,   4,   4,   4,\n          4,   4],\n       [  4,   4,   4,   0,   4, 191, 219, 219,  95,   4,   4, 172, 219,\n        219, 127,   4,   4,   4,   4,   4,   4,   4,   4,   4,   4,   4,\n          4,   4],\n       [  4,   4,   4,   4,   4, 191, 219, 191,  95,   4,   4,  95, 201,\n        219, 155,   4,   4,   4,   4,   4,   4,   4,   4,   4,   4,   4,\n          4,   4],\n       [  4,   4,   4,   4,   0,   4, 163, 219, 219, 127,   4,  63, 201,\n        219, 191,  95,   4,   4,   4,   0,   4,   4,   4,   4,   4,   4,\n          4,   4],\n       [  4,   4,   4,   0,   4,   0,   4,  95, 165, 165,  95,   4, 191,\n        219, 219,  95,   4,   4,   4,   0,   4,   4,   4,   4,   4,   4,\n          4,   4],\n       [  4,   4,   4,   4,   0,   4,   4,   4,  95,  63,   4,   4, 191,\n        229, 219, 127,   4,   4,   4,   4,   4,   4,   4,   4,   4,   4,\n          4,   4],\n       [  4,   4,   0,   4,   0,   4,   4,   4,   4,   4,   4,  63, 255,\n        219, 219,  95,   4,   4,   4,   4,   4,   4,   4,   4,   4,   4,\n          4,   4],\n       [  4,   4,   4,   4,   4,   4,   4,   0,   0,   4,   4, 191, 219,\n        229, 219, 165,  95,   4,   4,   0,   4,   4,   4,   4,   4,   4,\n          4,   4],\n       [  4,   4,   4,   4,   4,   4,   4,   4,   4,   4, 165, 229, 255,\n        255, 229, 219, 191,  95,   4,   4,   4,   4,   4,   4,   4,   4,\n          4,   4],\n       [  4,   4,   4,   4,   4,   4,   4,   0,   0, 163, 219, 219, 219,\n        219, 191, 191, 165, 191, 137,   4,   4,   4,   4,   4,   4,   4,\n          4,   4],\n       [  4,   4,   4,   4,   4,   4,   0,   0,  95, 219, 229, 219, 172,\n         63,   4,   4, 127, 191, 191,   4,   4,   4,   4,   4,   4,   4,\n          4,   4],\n       [  4,   4,   4,   0,   0,   4,   4,  73, 201, 255, 229,  95,   4,\n          4,   4,   4,   4, 165, 191,  63,   4,   4,   4,   4,   4,   4,\n          4,   4],\n       [  4,   4,   4,   4,   4,   4,  63, 229, 229, 219,  95,   4,   4,\n          0,   4,   4,   4, 163, 219, 127,   4,   4,   4,   4,   4,   4,\n          4,   4],\n       [  4,   4,   4,   0,   0,   4, 191, 229, 219,   4,   4,   4,   4,\n          4,   4,   4,  95, 219, 229,  95,   4,   4,   0,   4,   4,   4,\n          4,   4],\n       [  4,   4,   4,   4,   0,  63, 201, 219, 191,   4,   4,   4,   4,\n          4,   4, 127, 219, 229, 219,   4,   4,   4,   4,   4,   4,   0,\n          0,   0],\n       [  4,   4,   4,   0,   0,   4, 165, 219, 219, 127,  95,  95, 127,\n        191, 219, 219, 219, 229, 163,   4,   4,   4,   4,   4,   4,   4,\n          4,   4],\n       [  4,   4,   4,   4,   4,   0, 172, 191, 219, 219, 229, 219, 219,\n        219, 229, 219, 229, 191,   4,   0,   4,   4,   4,   4,   4,   4,\n          4,   4],\n       [  4,   4,   0,   4,   0,   4,   4, 155, 191, 219, 219, 219, 219,\n        229, 219, 219, 127,   4,   4,   4,   4,   4,   4,   4,   4,   0,\n          0,   0],\n       [  4,   4,   0,   0,   0,   0,   0,   4, 127, 165, 219, 191, 191,\n        163,  73,   0,   4,   4,   4,   0,   0,   0,   0,   0,   0,   0,\n          0,   0],\n       [  4,   4,   4,   4,   4,   4,   4,   4,   4,   0,   4,   0,   4,\n          0,   0,   4,   4,   4,   4,   0,   0,   0,   0,   0,   0,   4,\n          4,   4],\n       [  4,   4,   4,   4,   4,   4,   4,   4,   0,   4,   4,   4,   0,\n          0,   0,   4,   0,   4,   4,   0,   0,   4,   4,   4,   4,   4,\n          4,   4],\n       [  4,   4,   0,   0,   0,   0,   4,   0,   0,   4,   4,   4,   4,\n          4,   0,   0,   4,   4,   4,   0,   0,   4,   4,   4,   4,   4,\n          4,   4]], dtype=uint8)</pre></div><script>\n      (() => {\n      const titles = ['show data', 'hide data'];\n      let index = 0\n      document.querySelector('#id-7df398ad-e818-4ff1-b164-2bf7999b6482 button').onclick = (e) => {\n        document.querySelector('#id-7df398ad-e818-4ff1-b164-2bf7999b6482').classList.toggle('show_array');\n        index = (++index) % 2;\n        document.querySelector('#id-7df398ad-e818-4ff1-b164-2bf7999b6482 button').textContent = titles[index];\n        e.preventDefault();\n        e.stopPropagation();\n      }\n      })();\n    </script>"
                },
                "metadata": {}
              }
            ]
          }
        },
        "81418f2e08254f2789dcb6cf52c84f3d": {
          "model_module": "@jupyter-widgets/base",
          "model_name": "LayoutModel",
          "model_module_version": "1.2.0",
          "state": {
            "_model_module": "@jupyter-widgets/base",
            "_model_module_version": "1.2.0",
            "_model_name": "LayoutModel",
            "_view_count": null,
            "_view_module": "@jupyter-widgets/base",
            "_view_module_version": "1.2.0",
            "_view_name": "LayoutView",
            "align_content": null,
            "align_items": null,
            "align_self": null,
            "border": null,
            "bottom": null,
            "display": null,
            "flex": null,
            "flex_flow": null,
            "grid_area": null,
            "grid_auto_columns": null,
            "grid_auto_flow": null,
            "grid_auto_rows": null,
            "grid_column": null,
            "grid_gap": null,
            "grid_row": null,
            "grid_template_areas": null,
            "grid_template_columns": null,
            "grid_template_rows": null,
            "height": null,
            "justify_content": null,
            "justify_items": null,
            "left": null,
            "margin": null,
            "max_height": null,
            "max_width": null,
            "min_height": null,
            "min_width": null,
            "object_fit": null,
            "object_position": null,
            "order": null,
            "overflow": null,
            "overflow_x": null,
            "overflow_y": null,
            "padding": null,
            "right": null,
            "top": null,
            "visibility": null,
            "width": null
          }
        },
        "de67fe69d4c44ab3a3892264c58c773e": {
          "model_module": "@jupyter-widgets/base",
          "model_name": "LayoutModel",
          "model_module_version": "1.2.0",
          "state": {
            "_model_module": "@jupyter-widgets/base",
            "_model_module_version": "1.2.0",
            "_model_name": "LayoutModel",
            "_view_count": null,
            "_view_module": "@jupyter-widgets/base",
            "_view_module_version": "1.2.0",
            "_view_name": "LayoutView",
            "align_content": null,
            "align_items": null,
            "align_self": null,
            "border": null,
            "bottom": null,
            "display": null,
            "flex": null,
            "flex_flow": null,
            "grid_area": null,
            "grid_auto_columns": null,
            "grid_auto_flow": null,
            "grid_auto_rows": null,
            "grid_column": null,
            "grid_gap": null,
            "grid_row": null,
            "grid_template_areas": null,
            "grid_template_columns": null,
            "grid_template_rows": null,
            "height": null,
            "justify_content": null,
            "justify_items": null,
            "left": null,
            "margin": null,
            "max_height": null,
            "max_width": null,
            "min_height": null,
            "min_width": null,
            "object_fit": null,
            "object_position": null,
            "order": null,
            "overflow": null,
            "overflow_x": null,
            "overflow_y": null,
            "padding": null,
            "right": null,
            "top": null,
            "visibility": null,
            "width": null
          }
        },
        "d18ae3aeb9794fb5bff3c84a41cce164": {
          "model_module": "@jupyter-widgets/controls",
          "model_name": "SliderStyleModel",
          "model_module_version": "1.5.0",
          "state": {
            "_model_module": "@jupyter-widgets/controls",
            "_model_module_version": "1.5.0",
            "_model_name": "SliderStyleModel",
            "_view_count": null,
            "_view_module": "@jupyter-widgets/base",
            "_view_module_version": "1.2.0",
            "_view_name": "StyleView",
            "description_width": "",
            "handle_color": null
          }
        },
        "31dc45b3e8b74b77b199a079e8ba43e7": {
          "model_module": "@jupyter-widgets/base",
          "model_name": "LayoutModel",
          "model_module_version": "1.2.0",
          "state": {
            "_model_module": "@jupyter-widgets/base",
            "_model_module_version": "1.2.0",
            "_model_name": "LayoutModel",
            "_view_count": null,
            "_view_module": "@jupyter-widgets/base",
            "_view_module_version": "1.2.0",
            "_view_name": "LayoutView",
            "align_content": null,
            "align_items": null,
            "align_self": null,
            "border": null,
            "bottom": null,
            "display": null,
            "flex": null,
            "flex_flow": null,
            "grid_area": null,
            "grid_auto_columns": null,
            "grid_auto_flow": null,
            "grid_auto_rows": null,
            "grid_column": null,
            "grid_gap": null,
            "grid_row": null,
            "grid_template_areas": null,
            "grid_template_columns": null,
            "grid_template_rows": null,
            "height": null,
            "justify_content": null,
            "justify_items": null,
            "left": null,
            "margin": null,
            "max_height": null,
            "max_width": null,
            "min_height": null,
            "min_width": null,
            "object_fit": null,
            "object_position": null,
            "order": null,
            "overflow": null,
            "overflow_x": null,
            "overflow_y": null,
            "padding": null,
            "right": null,
            "top": null,
            "visibility": null,
            "width": null
          }
        }
      }
    }
  },
  "cells": [
    {
      "cell_type": "markdown",
      "metadata": {
        "id": "view-in-github",
        "colab_type": "text"
      },
      "source": [
        "<a href=\"https://colab.research.google.com/github/aleks-haksly/AI/blob/main/L1/my_recognize_digits.ipynb\" target=\"_parent\"><img src=\"https://colab.research.google.com/assets/colab-badge.svg\" alt=\"Open In Colab\"/></a>"
      ]
    },
    {
      "cell_type": "code",
      "execution_count": 128,
      "metadata": {
        "id": "Wwg6I_E4b_qw"
      },
      "outputs": [],
      "source": [
        "from tensorflow import keras\n",
        "from keras.datasets import mnist\n",
        "from keras.models import Sequential # импортируем класс создания модели (последовательный)\n",
        "from keras.layers import Dense # импортируем полносвязные слои\n",
        "from keras.optimizers import Adam\n",
        "from keras import utils # утилиты для to_categorical"
      ]
    },
    {
      "cell_type": "code",
      "source": [
        "import matplotlib.pyplot as plt\n",
        "import ipywidgets\n",
        "import numpy as np\n",
        "from PIL import Image\n",
        "import os"
      ],
      "metadata": {
        "id": "CmC4uLWfcCXA"
      },
      "execution_count": 129,
      "outputs": []
    },
    {
      "cell_type": "code",
      "source": [
        "#cd 'digits'\n",
        "#!rm -r '.ipynb_checkpoints'\n",
        "#cd .."
      ],
      "metadata": {
        "id": "jNYNcxX17Wgm"
      },
      "execution_count": 80,
      "outputs": []
    },
    {
      "cell_type": "code",
      "source": [
        "dir = 'digits'\n",
        "x_test = []\n",
        "for f in os.listdir(dir):\n",
        "  img = utils.load_img(fr\"{dir}/\"+ f, target_size=(28, 28), color_mode = 'grayscale')\n",
        "  x_test.append(np.asarray(255 - utils.img_to_array(img, \"channels_first\")[0]).astype('uint8'))"
      ],
      "metadata": {
        "id": "Em_ycL3meu58"
      },
      "execution_count": 137,
      "outputs": []
    },
    {
      "cell_type": "code",
      "source": [
        "x_test = np.asarray(x_test)"
      ],
      "metadata": {
        "id": "EAtig9w14dOg"
      },
      "execution_count": 138,
      "outputs": []
    },
    {
      "cell_type": "code",
      "source": [
        "x = x_test.astype('float32').reshape(len(os.listdir(dir)), 784) / 255"
      ],
      "metadata": {
        "id": "kX-4z48FcCks"
      },
      "execution_count": 139,
      "outputs": []
    },
    {
      "cell_type": "code",
      "source": [
        "model_digits = Sequential()\n",
        "model_digits.add(Dense(800, input_dim = 784, activation='relu', use_bias=False))\n",
        "model_digits.add(Dense(400, activation='relu', use_bias=False))\n",
        "model_digits.add(Dense(10, activation='softmax', use_bias=False))"
      ],
      "metadata": {
        "id": "eRGekwF9mNyE"
      },
      "execution_count": 140,
      "outputs": []
    },
    {
      "cell_type": "code",
      "source": [
        "model_digits.compile(loss=\"categorical_crossentropy\", optimizer=\"adam\", metrics=[\"accuracy\"]) # Компилируем модель"
      ],
      "metadata": {
        "id": "qANrzIJ2pB8Y"
      },
      "execution_count": 123,
      "outputs": []
    },
    {
      "cell_type": "code",
      "source": [
        "model_digits.load_weights('model_digits.h5')"
      ],
      "metadata": {
        "id": "G3X-_ko1qGAq"
      },
      "execution_count": 141,
      "outputs": []
    },
    {
      "cell_type": "code",
      "source": [
        "def f(n):\n",
        "    #plt.imshow(x_train_org[x], cmap='gray') # отрисовка картинки\n",
        "    #plt.show() # Вывод картинки 28 x 28\n",
        "    print('Predicted: ' + str(np.argmax(model_digits.predict(np.expand_dims(x[n], axis=0)))))\n",
        "    return x_test[n]\n",
        "ipywidgets.interact(f, n=ipywidgets.IntSlider(min=0, max=8, step=1, value=0));"
      ],
      "metadata": {
        "colab": {
          "base_uri": "https://localhost:8080/",
          "height": 152,
          "referenced_widgets": [
            "6458175cdc4f48ea955ff59e334c970b",
            "b5097823770b47f3a392e616bead3d15",
            "4575c833f7b741d8aaac4a7c81105c42",
            "81418f2e08254f2789dcb6cf52c84f3d",
            "de67fe69d4c44ab3a3892264c58c773e",
            "d18ae3aeb9794fb5bff3c84a41cce164",
            "31dc45b3e8b74b77b199a079e8ba43e7"
          ]
        },
        "id": "3XH52KiCqhKx",
        "outputId": "322415ad-4388-456f-b99e-98a1536f9351"
      },
      "execution_count": 143,
      "outputs": [
        {
          "output_type": "display_data",
          "data": {
            "text/plain": [
              "interactive(children=(IntSlider(value=0, description='n', max=8), Output()), _dom_classes=('widget-interact',)…"
            ],
            "application/vnd.jupyter.widget-view+json": {
              "version_major": 2,
              "version_minor": 0,
              "model_id": "6458175cdc4f48ea955ff59e334c970b"
            }
          },
          "metadata": {}
        }
      ]
    },
    {
      "cell_type": "code",
      "source": [],
      "metadata": {
        "id": "m56Xab4CAVOP"
      },
      "execution_count": null,
      "outputs": []
    }
  ]
}